{
 "cells": [
  {
   "cell_type": "code",
   "execution_count": null,
   "metadata": {},
   "outputs": [],
   "source": [
    "%load_ext autoreload\n",
    "%autoreload 2"
   ]
  },
  {
   "cell_type": "markdown",
   "metadata": {},
   "source": [
    "# Setup Agents\n"
   ]
  },
  {
   "cell_type": "code",
   "execution_count": null,
   "metadata": {},
   "outputs": [],
   "source": [
    "# Lets you run asyncio run in a notebook\n",
    "import nest_asyncio\n",
    "\n",
    "nest_asyncio.apply()"
   ]
  },
  {
   "cell_type": "code",
   "execution_count": null,
   "metadata": {},
   "outputs": [],
   "source": [
    "import os\n",
    "\n",
    "api_key = os.environ[\"OPENAI_API_KEY\"]"
   ]
  },
  {
   "cell_type": "code",
   "execution_count": null,
   "metadata": {},
   "outputs": [],
   "source": [
    "from meadow.cache.duckdb import DuckDBCache\n",
    "from meadow.client.api.openai import OpenAIClient\n",
    "from meadow.client.client import Client\n",
    "from meadow.client.schema import LLMConfig\n",
    "from meadow.database.connector.sqlite import SQLiteConnector\n",
    "from meadow.database.database import Database\n",
    "\n",
    "db_ambig_path = \"/home/lorr1/projects/code/meadow/examples/data/database_sqlite/sales_ambiguous_joins_example/sales_ambiguous_joins_example.sqlite\"\n",
    "connector = SQLiteConnector(db_ambig_path)\n",
    "database = Database(connector)\n",
    "\n",
    "# LLM cache for making reruns faster (optional)\n",
    "cache = DuckDBCache(\"test_cache.duckdb\")\n",
    "# Model\n",
    "api_client = OpenAIClient(api_key=api_key)\n",
    "model = \"gpt-4o\"\n",
    "\n",
    "client = Client(\n",
    "    cache=cache,\n",
    "    api_client=api_client,\n",
    "    model=model,\n",
    ")\n",
    "llm_config = LLMConfig(\n",
    "    max_tokens=1000,\n",
    "    temperature=0.0,\n",
    ")"
   ]
  },
  {
   "cell_type": "code",
   "execution_count": null,
   "metadata": {},
   "outputs": [],
   "source": [
    "# Build you custom agent to work with text2SQL. Suppose we want a result explain that explains the result to the user.\n",
    "from meadow.agent.data_agents.basic import BasicAgent\n",
    "\n",
    "explainer_agent = BasicAgent(\n",
    "    name=\"ExplainSQLResult\",\n",
    "    description=\"This agent explains the result of a SQL query in text. Use it after a SQL generation agent.\",\n",
    "    system_prompt=\"\"\"Given the schema\n",
    "{schema}\n",
    "\n",
    "Please explain the SQL query provided. If no SQL is provided in the conversation, use the largest SQL view in the schema.\"\"\",\n",
    "    client=client,\n",
    "    llm_config=llm_config,\n",
    "    database=database,\n",
    ")"
   ]
  },
  {
   "cell_type": "markdown",
   "metadata": {},
   "source": [
    "# Start a Conversation\n"
   ]
  },
  {
   "cell_type": "code",
   "execution_count": null,
   "metadata": {},
   "outputs": [],
   "source": [
    "import asyncio\n",
    "\n",
    "from meadow.agent.controller import ControllerAgent\n",
    "from meadow.agent.data_agents.text2sql import SQLGeneratorAgent\n",
    "from meadow.agent.planner import PlannerAgent\n",
    "from meadow.agent.user import UserAgent\n",
    "\n",
    "text2sql = SQLGeneratorAgent(\n",
    "    client=client,\n",
    "    llm_config=llm_config,\n",
    "    database=database,\n",
    ")\n",
    "planner = PlannerAgent(\n",
    "    available_agents=[\n",
    "        explainer_agent,  # Add the agent to the planner\n",
    "        text2sql,\n",
    "    ],\n",
    "    client=client,\n",
    "    llm_config=llm_config,\n",
    "    database=database,\n",
    ")\n",
    "user = UserAgent(name=\"User\", silent=False)\n",
    "controller = ControllerAgent(\n",
    "    supervisor=user, planner=planner, database=database, silent=True\n",
    ")\n",
    "\n",
    "question = \"What is the average total revenue for customers with different marital statuses and education levels?\"\n",
    "final_response = asyncio.run(controller.initiate_chat(input=question))"
   ]
  }
 ],
 "metadata": {
  "kernelspec": {
   "display_name": ".venv",
   "language": "python",
   "name": "python3"
  },
  "language_info": {
   "codemirror_mode": {
    "name": "ipython",
    "version": 3
   },
   "file_extension": ".py",
   "mimetype": "text/x-python",
   "name": "python",
   "nbconvert_exporter": "python",
   "pygments_lexer": "ipython3",
   "version": "3.10.0"
  }
 },
 "nbformat": 4,
 "nbformat_minor": 2
}
